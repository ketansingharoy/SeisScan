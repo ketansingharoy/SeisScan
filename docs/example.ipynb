{
 "cells": [
  {
   "cell_type": "markdown",
   "metadata": {},
   "source": [
    "# Example usage\n",
    "\n",
    "Here we will demonstrate how to use `SeisScan` to detect and locate earthquakes.\n",
    "\n",
    "We will first read data from IRIS full wavefield experiment.\n",
    "\n",
    "We will then proceed to compute characteristic function and backproject them for detection and location."
   ]
  },
  {
   "cell_type": "markdown",
   "metadata": {},
   "source": []
  }
 ],
 "metadata": {
  "kernelspec": {
   "display_name": "SeisScan",
   "language": "python",
   "name": "python3"
  },
  "language_info": {
   "name": "python",
   "version": "3.10.14"
  }
 },
 "nbformat": 4,
 "nbformat_minor": 2
}
